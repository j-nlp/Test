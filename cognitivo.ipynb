{
  "cells": [
    {
      "cell_type": "markdown",
      "metadata": {
        "id": "7yTqSmcxhPHD"
      },
      "source": [
        "@First naive analysis"
      ]
    },
    {
      "cell_type": "markdown",
      "metadata": {
        "id": "I3E2yZo6ga2H"
      },
      "source": [
        "Load the dataset"
      ]
    },
    {
      "cell_type": "code",
      "execution_count": 2,
      "metadata": {
        "id": "Oqz_NWXjgWuO"
      },
      "outputs": [],
      "source": [
        "# import libs\n",
        "import pandas as pd\n",
        "import numpy as np\n",
        "import seaborn as sns\n",
        "import matplotlib.pyplot as plt\n",
        "from sklearn import preprocessing\n",
        "from sklearn import metrics\n",
        "\n",
        "from sklearn.model_selection import GridSearchCV\n",
        "from sklearn.model_selection import train_test_split\n",
        "from sklearn.model_selection import RandomizedSearchCV\n",
        "\n",
        "from sklearn.linear_model import Ridge\n",
        "from sklearn.linear_model import Lasso\n",
        "from sklearn.linear_model import LinearRegression\n",
        "from sklearn.tree import DecisionTreeRegressor\n",
        "from sklearn.ensemble import ExtraTreesRegressor\n",
        "from sklearn.ensemble import RandomForestRegressor\n",
        "from sklearn.ensemble import GradientBoostingRegressor\n",
        "from sklearn.svm import SVR\n",
        "from lightgbm import LGBMRegressor\n",
        "\n",
        "from sklearn.metrics import mean_squared_error\n",
        "from sklearn.metrics import mean_absolute_error\n",
        "from sklearn.metrics import r2_score\n",
        "\n",
        "from sklearn.preprocessing import OneHotEncoder\n",
        "from sklearn.preprocessing import StandardScaler\n",
        "from sklearn.preprocessing import MinMaxScaler\n",
        "from sklearn.preprocessing import LabelEncoder\n",
        "\n",
        "from pprint import pprint\n",
        "\n",
        "import warnings\n",
        "warnings.filterwarnings(\"ignore\")"
      ]
    },
    {
      "cell_type": "code",
      "execution_count": 3,
      "metadata": {
        "id": "vuoulXz4uSmF"
      },
      "outputs": [],
      "source": [
        "# import the dataset\n",
        "df = pd.read_csv(\"../content/listings.csv\", encoding='utf-8')"
      ]
    },
    {
      "cell_type": "markdown",
      "metadata": {
        "id": "fPx6lBBAkDtD"
      },
      "source": [
        "Check rows(r) and columns(c)"
      ]
    },
    {
      "cell_type": "code",
      "execution_count": null,
      "metadata": {
        "id": "v69F8-zzjlry"
      },
      "outputs": [],
      "source": [
        "df.head(10)"
      ]
    },
    {
      "cell_type": "code",
      "execution_count": null,
      "metadata": {
        "id": "d6wHjO3RjpNl"
      },
      "outputs": [],
      "source": [
        "df.tail(10)"
      ]
    },
    {
      "cell_type": "code",
      "execution_count": null,
      "metadata": {
        "id": "95YGnZenBgfS"
      },
      "outputs": [],
      "source": [
        "df.info()"
      ]
    },
    {
      "cell_type": "code",
      "execution_count": 4,
      "metadata": {
        "id": "mOZN8CUyks8r",
        "colab": {
          "base_uri": "https://localhost:8080/"
        },
        "outputId": "d0668fb7-665d-48f2-e0b9-a8602d0f0b1d"
      },
      "outputs": [
        {
          "output_type": "stream",
          "name": "stdout",
          "text": [
            "Rows: 24549\n",
            "Columns: 18\n"
          ]
        }
      ],
      "source": [
        "# total r&c  \n",
        "print(f'Rows: {df.shape[0]}')\n",
        "print(f'Columns: {df.shape[1]}')"
      ]
    },
    {
      "cell_type": "code",
      "execution_count": 5,
      "metadata": {
        "id": "ezckOvPMnX-5",
        "colab": {
          "base_uri": "https://localhost:8080/"
        },
        "outputId": "bee6a0b3-04f6-4181-dd20-60e0869d632f"
      },
      "outputs": [
        {
          "output_type": "stream",
          "name": "stdout",
          "text": [
            "24549 listing from 16078 hosts\n"
          ]
        }
      ],
      "source": [
        "# host related to listings\n",
        "id = df['id'].count()\n",
        "host = len(df['host_id'].unique())\n",
        "print('{} listing from {} hosts'.format(id, host))"
      ]
    },
    {
      "cell_type": "code",
      "execution_count": null,
      "metadata": {
        "id": "I9VmEg0eoVzB"
      },
      "outputs": [],
      "source": [
        "# set null, type, and unique values \n",
        "pd.DataFrame({'nule values':np.round(df.isnull().mean(), 2), \n",
        "              'data type': df.dtypes, \n",
        "              'unique values': df.nunique()})"
      ]
    },
    {
      "cell_type": "code",
      "execution_count": 7,
      "metadata": {
        "id": "plwwTVs6pWmp"
      },
      "outputs": [],
      "source": [
        "# set datetime\n",
        "df['last_review'] = pd.to_datetime(df.last_review)"
      ]
    },
    {
      "cell_type": "code",
      "source": [
        "for col in df:\n",
        "  if(df[col].isnull().any()):\n",
        "    print(col)"
      ],
      "metadata": {
        "id": "VwmsmSe6xDke",
        "colab": {
          "base_uri": "https://localhost:8080/"
        },
        "outputId": "d421df5e-a94c-4fd4-c533-bc590bee46f3"
      },
      "execution_count": 8,
      "outputs": [
        {
          "output_type": "stream",
          "name": "stdout",
          "text": [
            "name\n",
            "host_name\n",
            "neighbourhood_group\n",
            "last_review\n",
            "reviews_per_month\n",
            "license\n"
          ]
        }
      ]
    },
    {
      "cell_type": "code",
      "source": [
        "df=df.fillna(0)"
      ],
      "metadata": {
        "id": "7_lYhttJ1Asd"
      },
      "execution_count": 9,
      "outputs": []
    },
    {
      "cell_type": "code",
      "execution_count": 10,
      "metadata": {
        "id": "z63hN1o05CGG",
        "colab": {
          "base_uri": "https://localhost:8080/",
          "height": 1000
        },
        "outputId": "7627eec0-5223-4487-90f0-26bd32ba7484"
      },
      "outputs": [
        {
          "output_type": "display_data",
          "data": {
            "text/plain": [
              "<Figure size 1440x1152 with 1 Axes>"
            ],
            "image/png": "[encoded data removed]"
          },
          "metadata": {}
        }
      ],
      "source": [
        "plt.style.use('fivethirtyeight')\n",
        "plt.figure(figsize=(20,16))\n",
        "plt.title(\"Neighbourhood Price Distribution<1000\")\n",
        "sns.boxplot(y=\"price\", x=\"neighbourhood\", data = df[df.price<1000])\n",
        "plt.show()"
      ]
    },
    {
      "cell_type": "code",
      "execution_count": null,
      "metadata": {
        "id": "5MzzODu-1Ojw"
      },
      "outputs": [],
      "source": [
        "plt.figure(figsize=(20,16))\n",
        "plt.title(\"Type of Room\")\n",
        "sns.countplot(df.room_type, palette=\"muted\")\n",
        "fig = plt.gcf()\n",
        "plt.show()"
      ]
    },
    {
      "cell_type": "code",
      "execution_count": null,
      "metadata": {
        "id": "Pxu2xkl22kzE"
      },
      "outputs": [],
      "source": [
        "corr = df.corr(method='kendall')\n",
        "plt.figure(figsize=(20,16))\n",
        "plt.title(\"Correlation Between Different Variables\\n\")\n",
        "sns.heatmap(corr, annot=True)\n",
        "plt.show()"
      ]
    },
    {
      "cell_type": "code",
      "execution_count": null,
      "metadata": {
        "id": "beHz8srOAyTs"
      },
      "outputs": [],
      "source": [
        "plt.style.use('fast')\n",
        "plt.figure(figsize=(20,16))\n",
        "plt.title(\"Neighbourhood vs. Availability\")\n",
        "sns.boxplot(data=df, x='neighbourhood',y='availability_365',palette=\"muted\")\n",
        "plt.show()"
      ]
    },
    {
      "cell_type": "code",
      "source": [
        "df.drop('neighbourhood_group', axis=1, inplace=True)\n",
        "df.drop('license', axis=1, inplace=True)\n",
        "df.shape"
      ],
      "metadata": {
        "colab": {
          "base_uri": "https://localhost:8080/"
        },
        "id": "Jr-LmX5DFRSF",
        "outputId": "e6a5b6bb-30d6-41c6-f6b0-01feb0f8c8ec"
      },
      "execution_count": 11,
      "outputs": [
        {
          "output_type": "execute_result",
          "data": {
            "text/plain": [
              "(24549, 16)"
            ]
          },
          "metadata": {},
          "execution_count": 11
        }
      ]
    },
    {
      "cell_type": "code",
      "source": [
        "# one-hot-encoding\n",
        "#df = pd.get_dummies(df)"
      ],
      "metadata": {
        "id": "5MwjqD-CHXUO"
      },
      "execution_count": null,
      "outputs": []
    },
    {
      "cell_type": "markdown",
      "metadata": {
        "id": "9RljwzSyuseE"
      },
      "source": [
        "Seeding and split data"
      ]
    },
    {
      "cell_type": "code",
      "execution_count": 12,
      "metadata": {
        "id": "6M6h-As4v1uC"
      },
      "outputs": [],
      "source": [
        "# set seed keeping same random values\n",
        "seed = 20\n",
        "# test dataset\n",
        "df_test = df.sample(frac=0.1, random_state=seed)\n",
        "# train dataset\n",
        "df_train = df.drop(df_test.index.tolist())"
      ]
    },
    {
      "cell_type": "code",
      "execution_count": 13,
      "metadata": {
        "colab": {
          "base_uri": "https://localhost:8080/"
        },
        "id": "l_pd6XWIyw4x",
        "outputId": "24818079-dce2-449a-a568-5045d5f4e0d2"
      },
      "outputs": [
        {
          "output_type": "stream",
          "name": "stdout",
          "text": [
            "test dataset : (2455, 16)\n",
            "train dataset: (22094, 16)\n"
          ]
        }
      ],
      "source": [
        "print(f'test dataset : {df_test.shape}')\n",
        "print(f'train dataset: {df_train.shape}')"
      ]
    },
    {
      "cell_type": "code",
      "source": [
        "print(f'mean price: R${df.price.mean():.2f}')"
      ],
      "metadata": {
        "colab": {
          "base_uri": "https://localhost:8080/"
        },
        "id": "cX0YseC786IW",
        "outputId": "d8e6e6f8-4a74-4ae2-dc0b-2d8b9fd6da7d"
      },
      "execution_count": 14,
      "outputs": [
        {
          "output_type": "stream",
          "name": "stdout",
          "text": [
            "mean price: R$1029.59\n"
          ]
        }
      ]
    },
    {
      "cell_type": "code",
      "execution_count": 13,
      "metadata": {
        "id": "v2LuGmMdzd3Q"
      },
      "outputs": [],
      "source": [
        "#inlist\n",
        "feature_list = ['host_id', 'latitude', 'longitude', 'room_type', 'minimum_nights', 'number_of_reviews', \n",
        "                'reviews_per_month', 'calculated_host_listings_count', 'availability_365']"
      ]
    },
    {
      "cell_type": "code",
      "execution_count": 14,
      "metadata": {
        "colab": {
          "base_uri": "https://localhost:8080/"
        },
        "id": "JgyPFrKUCpDJ",
        "outputId": "3bb2c242-81f6-4c12-9a65-6db3f10c7d8f"
      },
      "outputs": [
        {
          "output_type": "stream",
          "name": "stdout",
          "text": [
            "(19884, 9) (2210, 9) (19884,) (2210,)\n"
          ]
        }
      ],
      "source": [
        "# set X and y\n",
        "X = df_train[feature_list]\n",
        "y = df_train.price\n",
        "# set train and val\n",
        "X_train, X_val, y_train, y_val = train_test_split(X, y, test_size=0.1, random_state=seed)\n",
        "# check dimension\n",
        "print(X_train.shape, X_val.shape, y_train.shape, y_val.shape)"
      ]
    },
    {
      "cell_type": "code",
      "execution_count": 15,
      "metadata": {
        "id": "qPKE17kHLkOM"
      },
      "outputs": [],
      "source": [
        "# copy datasets\n",
        "X_train_enc = X_train.copy()\n",
        "X_val_enc = X_val.copy()"
      ]
    },
    {
      "cell_type": "code",
      "source": [
        "# inst alg\n",
        "le = LabelEncoder()\n",
        "# train dataset training\n",
        "le.fit(X_train['room_type'])\n",
        "# transforming\n",
        "X_train_enc['room_type'] = le.transform(X_train['room_type'])\n",
        "X_val_enc['room_type'] = le.transform(X_val['room_type'])\n",
        "# result\n",
        "X_train_enc.head(10)"
      ],
      "metadata": {
        "colab": {
          "base_uri": "https://localhost:8080/",
          "height": 359
        },
        "id": "k9M-hnbEMAMs",
        "outputId": "b6479b8a-2f27-4967-fce8-8a0126aa1899"
      },
      "execution_count": 16,
      "outputs": [
        {
          "output_type": "execute_result",
          "data": {
            "text/plain": [
              "         host_id   latitude  longitude  room_type  minimum_nights  \\\n",
              "21674  218732153 -22.960280 -43.170460          0               1   \n",
              "4377    50389387 -22.973080 -43.185840          0               4   \n",
              "18615  103275390 -22.986880 -43.189650          0               1   \n",
              "12805   74338742 -23.003480 -43.340680          2               2   \n",
              "16217  198473960 -22.973050 -43.190290          0               2   \n",
              "5405    55248222 -22.917920 -43.179220          2               2   \n",
              "23370  432880857 -22.961911 -43.180654          0               3   \n",
              "16461   97513278 -22.934120 -43.194530          0               2   \n",
              "19867   37776540 -22.982320 -43.208220          2               1   \n",
              "20622  400317308 -22.764320 -43.109610          0               1   \n",
              "\n",
              "       number_of_reviews  reviews_per_month  calculated_host_listings_count  \\\n",
              "21674                  3               0.83                               3   \n",
              "4377                   9               0.12                               1   \n",
              "18615                 79               5.72                               4   \n",
              "12805                  8               0.23                               8   \n",
              "16217                  1               0.04                               4   \n",
              "5405                  35               0.51                               5   \n",
              "23370                  0               0.00                               3   \n",
              "16461                  0               0.00                               1   \n",
              "19867                  1               0.11                               7   \n",
              "20622                 25               3.35                               1   \n",
              "\n",
              "       availability_365  \n",
              "21674               270  \n",
              "4377                359  \n",
              "18615               202  \n",
              "12805                75  \n",
              "16217               260  \n",
              "5405                305  \n",
              "23370               362  \n",
              "16461                 0  \n",
              "19867               208  \n",
              "20622               360  "
            ],
            "text/html": [
              "\n",
              "  <div id=\"df-f3e58a97-ab30-4b4a-9c9a-92d1a48e03c5\">\n",
              "    <div class=\"colab-df-container\">\n",
              "      <div>\n",
              "<style scoped>\n",
              "    .dataframe tbody tr th:only-of-type {\n",
              "        vertical-align: middle;\n",
              "    }\n",
              "\n",
              "    .dataframe tbody tr th {\n",
              "        vertical-align: top;\n",
              "    }\n",
              "\n",
              "    .dataframe thead th {\n",
              "        text-align: right;\n",
              "    }\n",
              "</style>\n",
              "<table border=\"1\" class=\"dataframe\">\n",
              "  <thead>\n",
              "    <tr style=\"text-align: right;\">\n",
              "      <th></th>\n",
              "      <th>host_id</th>\n",
              "      <th>latitude</th>\n",
              "      <th>longitude</th>\n",
              "      <th>room_type</th>\n",
              "      <th>minimum_nights</th>\n",
              "      <th>number_of_reviews</th>\n",
              "      <th>reviews_per_month</th>\n",
              "      <th>calculated_host_listings_count</th>\n",
              "      <th>availability_365</th>\n",
              "    </tr>\n",
              "  </thead>\n",
              "  <tbody>\n",
              "    <tr>\n",
              "      <th>21674</th>\n",
              "      <td>218732153</td>\n",
              "      <td>-22.960280</td>\n",
              "      <td>-43.170460</td>\n",
              "      <td>0</td>\n",
              "      <td>1</td>\n",
              "      <td>3</td>\n",
              "      <td>0.83</td>\n",
              "      <td>3</td>\n",
              "      <td>270</td>\n",
              "    </tr>\n",
              "    <tr>\n",
              "      <th>4377</th>\n",
              "      <td>50389387</td>\n",
              "      <td>-22.973080</td>\n",
              "      <td>-43.185840</td>\n",
              "      <td>0</td>\n",
              "      <td>4</td>\n",
              "      <td>9</td>\n",
              "      <td>0.12</td>\n",
              "      <td>1</td>\n",
              "      <td>359</td>\n",
              "    </tr>\n",
              "    <tr>\n",
              "      <th>18615</th>\n",
              "      <td>103275390</td>\n",
              "      <td>-22.986880</td>\n",
              "      <td>-43.189650</td>\n",
              "      <td>0</td>\n",
              "      <td>1</td>\n",
              "      <td>79</td>\n",
              "      <td>5.72</td>\n",
              "      <td>4</td>\n",
              "      <td>202</td>\n",
              "    </tr>\n",
              "    <tr>\n",
              "      <th>12805</th>\n",
              "      <td>74338742</td>\n",
              "      <td>-23.003480</td>\n",
              "      <td>-43.340680</td>\n",
              "      <td>2</td>\n",
              "      <td>2</td>\n",
              "      <td>8</td>\n",
              "      <td>0.23</td>\n",
              "      <td>8</td>\n",
              "      <td>75</td>\n",
              "    </tr>\n",
              "    <tr>\n",
              "      <th>16217</th>\n",
              "      <td>198473960</td>\n",
              "      <td>-22.973050</td>\n",
              "      <td>-43.190290</td>\n",
              "      <td>0</td>\n",
              "      <td>2</td>\n",
              "      <td>1</td>\n",
              "      <td>0.04</td>\n",
              "      <td>4</td>\n",
              "      <td>260</td>\n",
              "    </tr>\n",
              "    <tr>\n",
              "      <th>5405</th>\n",
              "      <td>55248222</td>\n",
              "      <td>-22.917920</td>\n",
              "      <td>-43.179220</td>\n",
              "      <td>2</td>\n",
              "      <td>2</td>\n",
              "      <td>35</td>\n",
              "      <td>0.51</td>\n",
              "      <td>5</td>\n",
              "      <td>305</td>\n",
              "    </tr>\n",
              "    <tr>\n",
              "      <th>23370</th>\n",
              "      <td>432880857</td>\n",
              "      <td>-22.961911</td>\n",
              "      <td>-43.180654</td>\n",
              "      <td>0</td>\n",
              "      <td>3</td>\n",
              "      <td>0</td>\n",
              "      <td>0.00</td>\n",
              "      <td>3</td>\n",
              "      <td>362</td>\n",
              "    </tr>\n",
              "    <tr>\n",
              "      <th>16461</th>\n",
              "      <td>97513278</td>\n",
              "      <td>-22.934120</td>\n",
              "      <td>-43.194530</td>\n",
              "      <td>0</td>\n",
              "      <td>2</td>\n",
              "      <td>0</td>\n",
              "      <td>0.00</td>\n",
              "      <td>1</td>\n",
              "      <td>0</td>\n",
              "    </tr>\n",
              "    <tr>\n",
              "      <th>19867</th>\n",
              "      <td>37776540</td>\n",
              "      <td>-22.982320</td>\n",
              "      <td>-43.208220</td>\n",
              "      <td>2</td>\n",
              "      <td>1</td>\n",
              "      <td>1</td>\n",
              "      <td>0.11</td>\n",
              "      <td>7</td>\n",
              "      <td>208</td>\n",
              "    </tr>\n",
              "    <tr>\n",
              "      <th>20622</th>\n",
              "      <td>400317308</td>\n",
              "      <td>-22.764320</td>\n",
              "      <td>-43.109610</td>\n",
              "      <td>0</td>\n",
              "      <td>1</td>\n",
              "      <td>25</td>\n",
              "      <td>3.35</td>\n",
              "      <td>1</td>\n",
              "      <td>360</td>\n",
              "    </tr>\n",
              "  </tbody>\n",
              "</table>\n",
              "</div>\n",
              "      <button class=\"colab-df-convert\" onclick=\"convertToInteractive('df-f3e58a97-ab30-4b4a-9c9a-92d1a48e03c5')\"\n",
              "              title=\"Convert this dataframe to an interactive table.\"\n",
              "              style=\"display:none;\">\n",
              "        \n",
              "  <svg xmlns=\"http://www.w3.org/2000/svg\" height=\"24px\"viewBox=\"0 0 24 24\"\n",
              "       width=\"24px\">\n",
              "    <path d=\"M0 0h24v24H0V0z\" fill=\"none\"/>\n",
              "    <path d=\"M18.56 5.44l.94 2.06.94-2.06 2.06-.94-2.06-.94-.94-2.06-.94 2.06-2.06.94zm-11 1L8.5 8.5l.94-2.06 2.06-.94-2.06-.94L8.5 2.5l-.94 2.06-2.06.94zm10 10l.94 2.06.94-2.06 2.06-.94-2.06-.94-.94-2.06-.94 2.06-2.06.94z\"/><path d=\"M17.41 7.96l-1.37-1.37c-.4-.4-.92-.59-1.43-.59-.52 0-1.04.2-1.43.59L10.3 9.45l-7.72 7.72c-.78.78-.78 2.05 0 2.83L4 21.41c.39.39.9.59 1.41.59.51 0 1.02-.2 1.41-.59l7.78-7.78 2.81-2.81c.8-.78.8-2.07 0-2.86zM5.41 20L4 18.59l7.72-7.72 1.47 1.35L5.41 20z\"/>\n",
              "  </svg>\n",
              "      </button>\n",
              "      \n",
              "  <style>\n",
              "    .colab-df-container {\n",
              "      display:flex;\n",
              "      flex-wrap:wrap;\n",
              "      gap: 12px;\n",
              "    }\n",
              "\n",
              "    .colab-df-convert {\n",
              "      background-color: #E8F0FE;\n",
              "      border: none;\n",
              "      border-radius: 50%;\n",
              "      cursor: pointer;\n",
              "      display: none;\n",
              "      fill: #1967D2;\n",
              "      height: 32px;\n",
              "      padding: 0 0 0 0;\n",
              "      width: 32px;\n",
              "    }\n",
              "\n",
              "    .colab-df-convert:hover {\n",
              "      background-color: #E2EBFA;\n",
              "      box-shadow: 0px 1px 2px rgba(60, 64, 67, 0.3), 0px 1px 3px 1px rgba(60, 64, 67, 0.15);\n",
              "      fill: #174EA6;\n",
              "    }\n",
              "\n",
              "    [theme=dark] .colab-df-convert {\n",
              "      background-color: #3B4455;\n",
              "      fill: #D2E3FC;\n",
              "    }\n",
              "\n",
              "    [theme=dark] .colab-df-convert:hover {\n",
              "      background-color: #434B5C;\n",
              "      box-shadow: 0px 1px 3px 1px rgba(0, 0, 0, 0.15);\n",
              "      filter: drop-shadow(0px 1px 2px rgba(0, 0, 0, 0.3));\n",
              "      fill: #FFFFFF;\n",
              "    }\n",
              "  </style>\n",
              "\n",
              "      <script>\n",
              "        const buttonEl =\n",
              "          document.querySelector('#df-f3e58a97-ab30-4b4a-9c9a-92d1a48e03c5 button.colab-df-convert');\n",
              "        buttonEl.style.display =\n",
              "          google.colab.kernel.accessAllowed ? 'block' : 'none';\n",
              "\n",
              "        async function convertToInteractive(key) {\n",
              "          const element = document.querySelector('#df-f3e58a97-ab30-4b4a-9c9a-92d1a48e03c5');\n",
              "          const dataTable =\n",
              "            await google.colab.kernel.invokeFunction('convertToInteractive',\n",
              "                                                     [key], {});\n",
              "          if (!dataTable) return;\n",
              "\n",
              "          const docLinkHtml = 'Like what you see? Visit the ' +\n",
              "            '<a target=\"_blank\" href=https://colab.research.google.com/notebooks/data_table.ipynb>data table notebook</a>'\n",
              "            + ' to learn more about interactive tables.';\n",
              "          element.innerHTML = '';\n",
              "          dataTable['output_type'] = 'display_data';\n",
              "          await google.colab.output.renderOutput(dataTable, element);\n",
              "          const docLink = document.createElement('div');\n",
              "          docLink.innerHTML = docLinkHtml;\n",
              "          element.appendChild(docLink);\n",
              "        }\n",
              "      </script>\n",
              "    </div>\n",
              "  </div>\n",
              "  "
            ]
          },
          "metadata": {},
          "execution_count": 16
        }
      ]
    },
    {
      "cell_type": "code",
      "source": [
        "# inst alg\n",
        "reg = LinearRegression()\n",
        "# train selected dataset \n",
        "reg.fit(X_train_enc, y_train)\n",
        "# realizando as previsões tanto nos dados de treino quanto no de validação\n",
        "y_pred_train = reg.predict(X_train_enc)\n",
        "y_pred_val = reg.predict(X_val_enc)\n",
        "\n",
        "print(f'Train data prediction:')\n",
        "print('-----------------------------------------------------')\n",
        "print(f'Mean Squared Error: {mean_squared_error(y_train, y_pred_train)}')\n",
        "print(f'Mean Absolute Error: {mean_absolute_error(y_train, y_pred_train)}')\n",
        "print(f'R2 score: {r2_score(y_train, y_pred_train)}\\n')\n",
        "\n",
        "print(f'Validation data prediction:')\n",
        "print('-----------------------------------------------------')\n",
        "print(f'Mean Squared Error: {mean_squared_error(y_val, y_pred_val)}')\n",
        "print(f'Mean Absolute Error: {mean_absolute_error(y_train, y_pred_train)}')\n",
        "print(f'R2 score: {r2_score(y_val, y_pred_val)}')"
      ],
      "metadata": {
        "id": "j_iPji4_MELh",
        "colab": {
          "base_uri": "https://localhost:8080/"
        },
        "outputId": "62af6892-bbef-4458-95e3-62402310fa5e"
      },
      "execution_count": 17,
      "outputs": [
        {
          "output_type": "stream",
          "name": "stdout",
          "text": [
            "Train data prediction:\n",
            "-----------------------------------------------------\n",
            "Mean Squared Error: 32793422.16150046\n",
            "Mean Absolute Error: 931.2741498560472\n",
            "R2 score: 0.006404932262896401\n",
            "\n",
            "Validation data prediction:\n",
            "-----------------------------------------------------\n",
            "Mean Squared Error: 10820066.276822075\n",
            "Mean Absolute Error: 931.2741498560472\n",
            "R2 score: 0.01798139138014776\n"
          ]
        }
      ]
    },
    {
      "cell_type": "code",
      "execution_count": 18,
      "metadata": {
        "id": "WQpkUxwrMKl1",
        "colab": {
          "base_uri": "https://localhost:8080/"
        },
        "outputId": "c50ff0ef-d161-456b-8851-dae17f413bab"
      },
      "outputs": [
        {
          "output_type": "stream",
          "name": "stdout",
          "text": [
            "DECISION TREE\n",
            "Train data prediction:\n",
            "-----------------------------------------------------\n",
            "Mean Squared Error: 0.0\n",
            "Mean Absolute Error: 0.0\n",
            "R2 score: 1.0\n",
            "\n",
            "Validation data prediction:\n",
            "-----------------------------------------------------\n",
            "Mean Squared Error: 21097008.900452487\n",
            "Mean Absolute Error: 912.5601809954751\n",
            "R2 score: -0.9147438468877755\n",
            "\n",
            "\n",
            "RANDOM FOREST\n",
            "Train data prediction:\n",
            "-----------------------------------------------------\n",
            "Mean Squared Error: 5535281.601796614\n",
            "Mean Absolute Error: 324.069913347415\n",
            "R2 score: 0.8322886684105247\n",
            "\n",
            "Validation data prediction:\n",
            "-----------------------------------------------------\n",
            "Mean Squared Error: 9685457.334648505\n",
            "Mean Absolute Error: 754.9516900452488\n",
            "R2 score: 0.12095738674051826\n",
            "\n",
            "\n",
            "LGBM\n",
            "Train data prediction:\n",
            "-----------------------------------------------------\n",
            "Mean Squared Error: 3846318.926245917\n",
            "Mean Absolute Error: 656.6910587692709\n",
            "R2 score: 0.8834618877151382\n",
            "\n",
            "Validation data prediction:\n",
            "-----------------------------------------------------\n",
            "Mean Squared Error: 9681147.897435967\n",
            "Mean Absolute Error: 984.9908430468843\n",
            "R2 score: 0.12134850703748501\n",
            "\n",
            "\n",
            "SVR\n",
            "Train data prediction:\n",
            "-----------------------------------------------------\n",
            "Mean Squared Error: 33316583.07874224\n",
            "Mean Absolute Error: 787.6537416159284\n",
            "R2 score: -0.009446115683374723\n",
            "\n",
            "Validation data prediction:\n",
            "-----------------------------------------------------\n",
            "Mean Squared Error: 11213658.639693629\n",
            "Mean Absolute Error: 666.2311593173316\n",
            "R2 score: -0.017740665644446096\n",
            "\n",
            "\n",
            "RIDGE\n",
            "Train data prediction:\n",
            "-----------------------------------------------------\n",
            "Mean Squared Error: 32793422.874556232\n",
            "Mean Absolute Error: 931.2472532056856\n",
            "R2 score: 0.006404910658298402\n",
            "\n",
            "Validation data prediction:\n",
            "-----------------------------------------------------\n",
            "Mean Squared Error: 10820177.194747487\n",
            "Mean Absolute Error: 806.4883037156025\n",
            "R2 score: 0.017971324577967795\n",
            "\n",
            "\n",
            "LASSO\n",
            "Train data prediction:\n",
            "-----------------------------------------------------\n",
            "Mean Squared Error: 32793436.023976773\n",
            "Mean Absolute Error: 931.1426212191669\n",
            "R2 score: 0.006404512249150174\n",
            "\n",
            "Validation data prediction:\n",
            "-----------------------------------------------------\n",
            "Mean Squared Error: 10820153.225746548\n",
            "Mean Absolute Error: 806.3408823032424\n",
            "R2 score: 0.01797349998099662\n",
            "\n",
            "\n",
            "GRADIENT BOOSTING\n",
            "Train data prediction:\n",
            "-----------------------------------------------------\n",
            "Mean Squared Error: 9819821.044819158\n",
            "Mean Absolute Error: 791.3367577884296\n",
            "R2 score: 0.7024730841403928\n",
            "\n",
            "Validation data prediction:\n",
            "-----------------------------------------------------\n",
            "Mean Squared Error: 10670496.927361926\n",
            "Mean Absolute Error: 759.0653093971695\n",
            "R2 score: 0.03155615891772445\n",
            "\n",
            "\n",
            "EXTRA TREES\n",
            "Train data prediction:\n",
            "-----------------------------------------------------\n",
            "Mean Squared Error: 0.8920456719975878\n",
            "Mean Absolute Error: 0.01791178837256092\n",
            "R2 score: 0.9999999729722572\n",
            "\n",
            "Validation data prediction:\n",
            "-----------------------------------------------------\n",
            "Mean Squared Error: 5979904.646647342\n",
            "Mean Absolute Error: 746.412804524887\n",
            "R2 score: 0.4572697162346063\n",
            "\n",
            "\n"
          ]
        }
      ],
      "source": [
        "# models\n",
        "dtr = DecisionTreeRegressor()\n",
        "rfr = RandomForestRegressor(n_estimators=1000)\n",
        "svr = SVR()\n",
        "LGBM = LGBMRegressor(n_estimators=1000)\n",
        "ridge = Ridge(alpha=0.1)\n",
        "lasso = Lasso(alpha=0.1)\n",
        "gbr = GradientBoostingRegressor(random_state=seed)\n",
        "etr = ExtraTreesRegressor(n_estimators=1000, random_state=0)\n",
        "\n",
        "# trained model list\n",
        "models = [('DECISION TREE', dtr),\n",
        "          ('RANDOM FOREST', rfr),\n",
        "          ('LGBM', LGBM),\n",
        "          ('SVR', svr),\n",
        "          ('RIDGE', ridge),\n",
        "          ('LASSO', lasso),\n",
        "          ('GRADIENT BOOSTING', gbr),\n",
        "          ('EXTRA TREES', etr)]\n",
        "\n",
        "# looping for results\n",
        "for name, model in models:\n",
        "    model.fit(X_train_enc, y_train)\n",
        "    y_pred_train = model.predict(X_train_enc)\n",
        "    y_pred_val = model.predict(X_val_enc)\n",
        "    \n",
        "    print(f'{name}')\n",
        "    print(f'Train data prediction:')\n",
        "    print('-----------------------------------------------------')\n",
        "    print(f'Mean Squared Error: {mean_squared_error(y_train, y_pred_train)}')\n",
        "    print(f'Mean Absolute Error: {mean_absolute_error(y_train, y_pred_train)}')\n",
        "    print(f'R2 score: {r2_score(y_train, y_pred_train)}\\n')\n",
        "    \n",
        "    print(f'Validation data prediction:')\n",
        "    print('-----------------------------------------------------')\n",
        "    print(f'Mean Squared Error: {mean_squared_error(y_val, y_pred_val)}')\n",
        "    print(f'Mean Absolute Error: {mean_absolute_error(y_val, y_pred_val)}')\n",
        "    print(f'R2 score: {r2_score(y_val, y_pred_val)}')\n",
        "    \n",
        "    print()\n",
        "    print()"
      ]
    },
    {
      "cell_type": "markdown",
      "source": [
        "Selecting Random Forest due to better results on the tests"
      ],
      "metadata": {
        "id": "jP79G2H3PSdH"
      }
    },
    {
      "cell_type": "code",
      "source": [
        "# total tree \n",
        "n_estimators = [int(x) for x in np.linspace(start = 100, stop = 1000, num = 10)]\n",
        "# variables\n",
        "max_features = ['auto', 'sqrt']\n",
        "# levels\n",
        "max_depth = [int(x) for x in np.linspace(10, 110, num = 11)]\n",
        "max_depth.append(None)\n",
        "# node sample\n",
        "min_samples_split = [2, 5, 10]\n",
        "# leaf node sample\n",
        "min_samples_leaf = [1, 2, 4]\n",
        "# method \n",
        "bootstrap = [True, False]\n",
        "# random grid\n",
        "random_grid = {'n_estimators': n_estimators,\n",
        "               'max_features': max_features,\n",
        "               'max_depth': max_depth,\n",
        "               'min_samples_split': min_samples_split,\n",
        "               'min_samples_leaf': min_samples_leaf,\n",
        "               'bootstrap': bootstrap,\n",
        "               'ccp_alpha':[0.0, 0.1, 0.2]}\n",
        "pprint(random_grid)"
      ],
      "metadata": {
        "colab": {
          "base_uri": "https://localhost:8080/"
        },
        "id": "clOT1ZCXQL-g",
        "outputId": "412db1ca-2487-4b79-8733-a21f1a8ae6e8"
      },
      "execution_count": 19,
      "outputs": [
        {
          "output_type": "stream",
          "name": "stdout",
          "text": [
            "{'bootstrap': [True, False],\n",
            " 'ccp_alpha': [0.0, 0.1, 0.2],\n",
            " 'max_depth': [10, 20, 30, 40, 50, 60, 70, 80, 90, 100, 110, None],\n",
            " 'max_features': ['auto', 'sqrt'],\n",
            " 'min_samples_leaf': [1, 2, 4],\n",
            " 'min_samples_split': [2, 5, 10],\n",
            " 'n_estimators': [100, 200, 300, 400, 500, 600, 700, 800, 900, 1000]}\n"
          ]
        }
      ]
    },
    {
      "cell_type": "code",
      "source": [
        "# inst alg\n",
        "rf = RandomForestRegressor()\n",
        "# parameters search 4 cross-fold in 200\n",
        "rf_random = RandomizedSearchCV(estimator = rf, param_distributions = random_grid, n_iter = 100, cv = 2, verbose=0, random_state=seed, n_jobs = -1)\n",
        "# train with RandomSearch\n",
        "rf_random.fit(X_train_enc, y_train)"
      ],
      "metadata": {
        "id": "cB8-RLzLPWVI"
      },
      "execution_count": null,
      "outputs": []
    },
    {
      "cell_type": "code",
      "source": [
        "# set best param\n",
        "rf_random.best_params_"
      ],
      "metadata": {
        "id": "mJXjFLQwRtRe"
      },
      "execution_count": null,
      "outputs": []
    },
    {
      "cell_type": "code",
      "source": [
        "# best hyperparameters\n",
        "best_random = rf_random.best_estimator_"
      ],
      "metadata": {
        "id": "5-VpuMFIAUxP"
      },
      "execution_count": null,
      "outputs": []
    },
    {
      "cell_type": "code",
      "source": [
        "# train with chosen hiperparameter\n",
        "best_random.fit(X_train_enc, y_train)"
      ],
      "metadata": {
        "id": "9Nzwgn0rR3Iy"
      },
      "execution_count": null,
      "outputs": []
    },
    {
      "cell_type": "code",
      "source": [
        "# predictions\n",
        "y_pred_train = best_random.predict(X_train_enc)\n",
        "y_pred_val = best_random.predict(X_val_enc)\n",
        "\n",
        "print(f'Train dataset prediction:')\n",
        "print('-----------------------------------------------------')\n",
        "print(f'Mean Squared Error: {mean_squared_error(y_train, y_pred_train)}')\n",
        "print(f'Mean Absolute Error: {mean_absolute_error(y_train, y_pred_train)}')\n",
        "print(f'R2 score: {r2_score(y_train, y_pred_train)}\\n')\n",
        "\n",
        "print(f'Validation dataset prediction:')\n",
        "print('-----------------------------------------------------')\n",
        "print(f'Mean Squared Error: {mean_squared_error(y_val, y_pred_val)}')\n",
        "print(f'Mean Absolute Error: {mean_absolute_error(y_val, y_pred_val)}')\n",
        "print(f'R2 score: {r2_score(y_val, y_pred_val)}')"
      ],
      "metadata": {
        "id": "w1h9rziDSEVq"
      },
      "execution_count": null,
      "outputs": []
    }
  ],
  "metadata": {
    "colab": {
      "collapsed_sections": [],
      "name": "cognitivo.ipynb",
      "provenance": [],
      "authorship_tag": "ABX9TyNFPpskfX7UCB9CNu2l3JAD"
    },
    "kernelspec": {
      "display_name": "Python 3",
      "name": "python3"
    },
    "language_info": {
      "name": "python"
    }
  },
  "nbformat": 4,
  "nbformat_minor": 0
}